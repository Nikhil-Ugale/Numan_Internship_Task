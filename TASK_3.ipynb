{
 "cells": [
  {
   "cell_type": "code",
   "execution_count": 1,
   "metadata": {},
   "outputs": [],
   "source": [
    "import pandas as pd      #importing  necessary libraries\n",
    "\n",
    "def combine():           # Combine function - this is used to combine the sheets into a single csv file\n",
    "    for i in ['data.xlsx','data_1.xlsx']:\n",
    "        if(i=='data.xlsx'):\n",
    "            df = pd.concat(pd.read_excel('data.xlsx', sheet_name=['Detail_67_1_1_1','Detail_67_1_1_2', 'Detail_67_1_1_3','Detail_67_1_1_4',\n",
    "                                                      'Detail_67_1_1_5', 'Detail_67_1_1_6']))\n",
    "            df_vol = pd.concat(pd.read_excel('data.xlsx', sheet_name=['DetailVol_67_1_1', 'DetailVol_67_1_1_1', 'DetailVol_67_1_1_2', 'DetailVol_67_1_1_3',\n",
    "                                                          'DetailVol_67_1_1_4', 'DetailVol_67_1_1_5','DetailVol_67_1_1_6']))\n",
    "            df = df.rename(columns={'Absolute Time': 'Realtime'})\n",
    "            df.to_csv('detail.csv',header=True)\n",
    "            df_vol.to_csv('detailVol.csv',header=True)\n",
    "        else:\n",
    "            df_temp_1 = pd.concat(pd.read_excel('data.xlsx', sheet_name=['DetailTemp_67_1_1', 'DetailTemp_67_1_1_1', 'DetailTemp_67_1_1_2']))\n",
    "            df_temp_1 = pd.concat(pd.read_excel('data_1.xlsx', sheet_name=['DetailTemp_67_1_1_3', 'DetailTemp_67_1_1_4', 'DetailTemp_67_1_1_5', 'DetailTemp_67_1_1_6']))\n",
    "            df_temp_1.to_csv('detailTemp.csv',header=True)\n",
    "            \n",
    "            \n",
    "def downsample():               # Downsample function is used to downsample the data - 1 sample/minute\n",
    "    for i in ['detailTemp.csv','detailVol.csv','detail.csv']:           \n",
    "        df = pd.read_csv(i,parse_dates=['Realtime'],index_col=['Realtime'])\n",
    "        df = df.resample('1Min').sum()\n",
    "        df.to_csv(i.strip('.csv')+'Downsampled'+'.csv',header=True)"
   ]
  },
  {
   "cell_type": "code",
   "execution_count": 2,
   "metadata": {},
   "outputs": [],
   "source": [
    "combine()"
   ]
  },
  {
   "cell_type": "code",
   "execution_count": 3,
   "metadata": {},
   "outputs": [],
   "source": [
    "downsample()"
   ]
  },
  {
   "cell_type": "code",
   "execution_count": 8,
   "metadata": {},
   "outputs": [
    {
     "data": {
      "text/html": [
       "<div>\n",
       "<style scoped>\n",
       "    .dataframe tbody tr th:only-of-type {\n",
       "        vertical-align: middle;\n",
       "    }\n",
       "\n",
       "    .dataframe tbody tr th {\n",
       "        vertical-align: top;\n",
       "    }\n",
       "\n",
       "    .dataframe thead th {\n",
       "        text-align: right;\n",
       "    }\n",
       "</style>\n",
       "<table border=\"1\" class=\"dataframe\">\n",
       "  <thead>\n",
       "    <tr style=\"text-align: right;\">\n",
       "      <th></th>\n",
       "      <th>Realtime</th>\n",
       "      <th>Unnamed: 1</th>\n",
       "      <th>Record ID</th>\n",
       "      <th>Auxiliary channel TU1 U(V)</th>\n",
       "      <th>Gap of Voltage</th>\n",
       "    </tr>\n",
       "  </thead>\n",
       "  <tbody>\n",
       "    <tr>\n",
       "      <th>0</th>\n",
       "      <td>2020-10-10 20:03:00</td>\n",
       "      <td>253</td>\n",
       "      <td>276</td>\n",
       "      <td>-0.0298</td>\n",
       "      <td>0</td>\n",
       "    </tr>\n",
       "    <tr>\n",
       "      <th>1</th>\n",
       "      <td>2020-10-10 20:04:00</td>\n",
       "      <td>3150</td>\n",
       "      <td>3210</td>\n",
       "      <td>-0.0762</td>\n",
       "      <td>0</td>\n",
       "    </tr>\n",
       "    <tr>\n",
       "      <th>2</th>\n",
       "      <td>2020-10-10 20:05:00</td>\n",
       "      <td>6750</td>\n",
       "      <td>6810</td>\n",
       "      <td>-0.0769</td>\n",
       "      <td>0</td>\n",
       "    </tr>\n",
       "    <tr>\n",
       "      <th>3</th>\n",
       "      <td>2020-10-10 20:06:00</td>\n",
       "      <td>10350</td>\n",
       "      <td>10410</td>\n",
       "      <td>-0.0772</td>\n",
       "      <td>0</td>\n",
       "    </tr>\n",
       "    <tr>\n",
       "      <th>4</th>\n",
       "      <td>2020-10-10 20:07:00</td>\n",
       "      <td>13950</td>\n",
       "      <td>14010</td>\n",
       "      <td>-0.0765</td>\n",
       "      <td>0</td>\n",
       "    </tr>\n",
       "  </tbody>\n",
       "</table>\n",
       "</div>"
      ],
      "text/plain": [
       "              Realtime  Unnamed: 1  Record ID  Auxiliary channel TU1 U(V)  \\\n",
       "0  2020-10-10 20:03:00         253        276                     -0.0298   \n",
       "1  2020-10-10 20:04:00        3150       3210                     -0.0762   \n",
       "2  2020-10-10 20:05:00        6750       6810                     -0.0769   \n",
       "3  2020-10-10 20:06:00       10350      10410                     -0.0772   \n",
       "4  2020-10-10 20:07:00       13950      14010                     -0.0765   \n",
       "\n",
       "   Gap of Voltage  \n",
       "0               0  \n",
       "1               0  \n",
       "2               0  \n",
       "3               0  \n",
       "4               0  "
      ]
     },
     "execution_count": 8,
     "metadata": {},
     "output_type": "execute_result"
    }
   ],
   "source": [
    "import pandas as pd\n",
    "a = pd.read_csv('detailVolDownsampled.csv')\n",
    "a.head()"
   ]
  },
  {
   "cell_type": "code",
   "execution_count": 9,
   "metadata": {},
   "outputs": [
    {
     "data": {
      "text/html": [
       "<div>\n",
       "<style scoped>\n",
       "    .dataframe tbody tr th:only-of-type {\n",
       "        vertical-align: middle;\n",
       "    }\n",
       "\n",
       "    .dataframe tbody tr th {\n",
       "        vertical-align: top;\n",
       "    }\n",
       "\n",
       "    .dataframe thead th {\n",
       "        text-align: right;\n",
       "    }\n",
       "</style>\n",
       "<table border=\"1\" class=\"dataframe\">\n",
       "  <thead>\n",
       "    <tr style=\"text-align: right;\">\n",
       "      <th></th>\n",
       "      <th>Unnamed: 1</th>\n",
       "      <th>Record ID</th>\n",
       "      <th>Auxiliary channel TU1 U(V)</th>\n",
       "      <th>Gap of Voltage</th>\n",
       "    </tr>\n",
       "  </thead>\n",
       "  <tbody>\n",
       "    <tr>\n",
       "      <th>count</th>\n",
       "      <td>7.643000e+03</td>\n",
       "      <td>7.643000e+03</td>\n",
       "      <td>7643.000000</td>\n",
       "      <td>7643.0</td>\n",
       "    </tr>\n",
       "    <tr>\n",
       "      <th>mean</th>\n",
       "      <td>1.721804e+06</td>\n",
       "      <td>1.193472e+07</td>\n",
       "      <td>-0.068492</td>\n",
       "      <td>0.0</td>\n",
       "    </tr>\n",
       "    <tr>\n",
       "      <th>std</th>\n",
       "      <td>1.219238e+06</td>\n",
       "      <td>8.576418e+06</td>\n",
       "      <td>0.021827</td>\n",
       "      <td>0.0</td>\n",
       "    </tr>\n",
       "    <tr>\n",
       "      <th>min</th>\n",
       "      <td>0.000000e+00</td>\n",
       "      <td>0.000000e+00</td>\n",
       "      <td>-0.083700</td>\n",
       "      <td>0.0</td>\n",
       "    </tr>\n",
       "    <tr>\n",
       "      <th>25%</th>\n",
       "      <td>6.259045e+05</td>\n",
       "      <td>4.362210e+06</td>\n",
       "      <td>-0.076700</td>\n",
       "      <td>0.0</td>\n",
       "    </tr>\n",
       "    <tr>\n",
       "      <th>50%</th>\n",
       "      <td>1.641630e+06</td>\n",
       "      <td>1.124529e+07</td>\n",
       "      <td>-0.076100</td>\n",
       "      <td>0.0</td>\n",
       "    </tr>\n",
       "    <tr>\n",
       "      <th>75%</th>\n",
       "      <td>2.783190e+06</td>\n",
       "      <td>1.812105e+07</td>\n",
       "      <td>-0.072000</td>\n",
       "      <td>0.0</td>\n",
       "    </tr>\n",
       "    <tr>\n",
       "      <th>max</th>\n",
       "      <td>3.982812e+06</td>\n",
       "      <td>2.839746e+07</td>\n",
       "      <td>0.000000</td>\n",
       "      <td>0.0</td>\n",
       "    </tr>\n",
       "  </tbody>\n",
       "</table>\n",
       "</div>"
      ],
      "text/plain": [
       "         Unnamed: 1     Record ID  Auxiliary channel TU1 U(V)  Gap of Voltage\n",
       "count  7.643000e+03  7.643000e+03                 7643.000000          7643.0\n",
       "mean   1.721804e+06  1.193472e+07                   -0.068492             0.0\n",
       "std    1.219238e+06  8.576418e+06                    0.021827             0.0\n",
       "min    0.000000e+00  0.000000e+00                   -0.083700             0.0\n",
       "25%    6.259045e+05  4.362210e+06                   -0.076700             0.0\n",
       "50%    1.641630e+06  1.124529e+07                   -0.076100             0.0\n",
       "75%    2.783190e+06  1.812105e+07                   -0.072000             0.0\n",
       "max    3.982812e+06  2.839746e+07                    0.000000             0.0"
      ]
     },
     "execution_count": 9,
     "metadata": {},
     "output_type": "execute_result"
    }
   ],
   "source": [
    "a.describe()"
   ]
  },
  {
   "cell_type": "code",
   "execution_count": 12,
   "metadata": {},
   "outputs": [
    {
     "data": {
      "image/png": "[encoded data removed]",
      "text/plain": [
       "<Figure size 432x288 with 1 Axes>"
      ]
     },
     "metadata": {
      "needs_background": "light"
     },
     "output_type": "display_data"
    }
   ],
   "source": [
    "from matplotlib import pyplot as plt\n",
    "a['Auxiliary channel TU1 U(V)'].plot(kind='hist')\n",
    "plt.show()"
   ]
  },
  {
   "cell_type": "markdown",
   "metadata": {},
   "source": [
    "# DATA_VIZ\n"
   ]
  },
  {
   "cell_type": "code",
   "execution_count": 38,
   "metadata": {},
   "outputs": [],
   "source": [
    "import pandas as pd\n",
    "from matplotlib import pyplot as plt\n",
    "a = pd.read_csv('detailVolDownsampled.csv')"
   ]
  },
  {
   "cell_type": "code",
   "execution_count": 39,
   "metadata": {},
   "outputs": [
    {
     "data": {
      "text/plain": [
       "Index(['Realtime', 'Unnamed: 1', 'Record ID', 'Auxiliary channel TU1 U(V)',\n",
       "       'Gap of Voltage'],\n",
       "      dtype='object')"
      ]
     },
     "execution_count": 39,
     "metadata": {},
     "output_type": "execute_result"
    }
   ],
   "source": [
    "a.columns"
   ]
  },
  {
   "cell_type": "code",
   "execution_count": 34,
   "metadata": {},
   "outputs": [
    {
     "data": {
      "text/plain": [
       "<AxesSubplot:ylabel='Frequency'>"
      ]
     },
     "execution_count": 34,
     "metadata": {},
     "output_type": "execute_result"
    },
    {
     "data": {
      "image/png": "[encoded data removed]",
      "text/plain": [
       "<Figure size 432x288 with 1 Axes>"
      ]
     },
     "metadata": {
      "needs_background": "light"
     },
     "output_type": "display_data"
    }
   ],
   "source": [
    "a['Auxiliary channel TU1 U(V)'].plot(kind='hist')"
   ]
  },
  {
   "cell_type": "code",
   "execution_count": 35,
   "metadata": {},
   "outputs": [
    {
     "data": {
      "text/plain": [
       "<AxesSubplot:ylabel='Frequency'>"
      ]
     },
     "execution_count": 35,
     "metadata": {},
     "output_type": "execute_result"
    },
    {
     "data": {
      "image/png": "[encoded data removed]",
      "text/plain": [
       "<Figure size 432x288 with 1 Axes>"
      ]
     },
     "metadata": {
      "needs_background": "light"
     },
     "output_type": "display_data"
    }
   ],
   "source": [
    "a['Gap of Voltage'].plot(kind='hist')"
   ]
  },
  {
   "cell_type": "code",
   "execution_count": 37,
   "metadata": {},
   "outputs": [
    {
     "data": {
      "text/plain": [
       "Index(['Realtime', 'Unnamed: 1', 'Record ID', 'Auxiliary channel TU1 T(°C)',\n",
       "       'Gap of Temperature'],\n",
       "      dtype='object')"
      ]
     },
     "execution_count": 37,
     "metadata": {},
     "output_type": "execute_result"
    }
   ],
   "source": [
    "b = pd.read_csv('detailTempDownsampled.csv')\n",
    "b.columns"
   ]
  },
  {
   "cell_type": "code",
   "execution_count": 41,
   "metadata": {},
   "outputs": [
    {
     "data": {
      "text/plain": [
       "<AxesSubplot:ylabel='Frequency'>"
      ]
     },
     "execution_count": 41,
     "metadata": {},
     "output_type": "execute_result"
    },
    {
     "data": {
      "image/png": "[encoded data removed]",
      "text/plain": [
       "<Figure size 432x288 with 1 Axes>"
      ]
     },
     "metadata": {
      "needs_background": "light"
     },
     "output_type": "display_data"
    }
   ],
   "source": [
    "b['Auxiliary channel TU1 T(°C)'].plot(kind='hist')"
   ]
  },
  {
   "cell_type": "code",
   "execution_count": 42,
   "metadata": {},
   "outputs": [
    {
     "data": {
      "text/plain": [
       "<AxesSubplot:ylabel='Frequency'>"
      ]
     },
     "execution_count": 42,
     "metadata": {},
     "output_type": "execute_result"
    },
    {
     "data": {
      "image/png": "[encoded data removed]",
      "text/plain": [
       "<Figure size 432x288 with 1 Axes>"
      ]
     },
     "metadata": {
      "needs_background": "light"
     },
     "output_type": "display_data"
    }
   ],
   "source": [
    "b['Gap of Temperature'].plot(kind='hist')"
   ]
  },
  {
   "cell_type": "code",
   "execution_count": 43,
   "metadata": {},
   "outputs": [
    {
     "data": {
      "text/plain": [
       "Index(['Realtime', 'Unnamed: 1', 'Record Index', 'JumpTo', 'Cycle', 'Step',\n",
       "       'Cur(mA)', 'Voltage(V)', 'CapaCity(mAh)', 'Energy(mWh)'],\n",
       "      dtype='object')"
      ]
     },
     "execution_count": 43,
     "metadata": {},
     "output_type": "execute_result"
    }
   ],
   "source": [
    "c = pd.read_csv('detailDownsampled.csv')\n",
    "c.columns"
   ]
  },
  {
   "cell_type": "code",
   "execution_count": 44,
   "metadata": {},
   "outputs": [
    {
     "data": {
      "text/plain": [
       "<AxesSubplot:ylabel='Frequency'>"
      ]
     },
     "execution_count": 44,
     "metadata": {},
     "output_type": "execute_result"
    },
    {
     "data": {
      "image/png": "[encoded data removed]",
      "text/plain": [
       "<Figure size 432x288 with 1 Axes>"
      ]
     },
     "metadata": {
      "needs_background": "light"
     },
     "output_type": "display_data"
    }
   ],
   "source": [
    "c['JumpTo'].plot(kind='hist')"
   ]
  },
  {
   "cell_type": "code",
   "execution_count": 45,
   "metadata": {},
   "outputs": [
    {
     "data": {
      "text/plain": [
       "<AxesSubplot:ylabel='Frequency'>"
      ]
     },
     "execution_count": 45,
     "metadata": {},
     "output_type": "execute_result"
    },
    {
     "data": {
      "image/png": "[encoded data removed]",
      "text/plain": [
       "<Figure size 432x288 with 1 Axes>"
      ]
     },
     "metadata": {
      "needs_background": "light"
     },
     "output_type": "display_data"
    }
   ],
   "source": [
    "c['Cycle'].plot(kind='hist')"
   ]
  },
  {
   "cell_type": "code",
   "execution_count": 46,
   "metadata": {},
   "outputs": [
    {
     "data": {
      "text/plain": [
       "<AxesSubplot:ylabel='Frequency'>"
      ]
     },
     "execution_count": 46,
     "metadata": {},
     "output_type": "execute_result"
    },
    {
     "data": {
      "image/png": "[encoded data removed]",
      "text/plain": [
       "<Figure size 432x288 with 1 Axes>"
      ]
     },
     "metadata": {
      "needs_background": "light"
     },
     "output_type": "display_data"
    }
   ],
   "source": [
    "c['Energy(mWh)'].plot(kind='hist')"
   ]
  },
  {
   "cell_type": "code",
   "execution_count": null,
   "metadata": {},
   "outputs": [],
   "source": []
  }
 ],
 "metadata": {
  "kernelspec": {
   "display_name": "Python 3",
   "language": "python",
   "name": "python3"
  },
  "language_info": {
   "codemirror_mode": {
    "name": "ipython",
    "version": 3
   },
   "file_extension": ".py",
   "mimetype": "text/x-python",
   "name": "python",
   "nbconvert_exporter": "python",
   "pygments_lexer": "ipython3",
   "version": "3.8.5"
  }
 },
 "nbformat": 4,
 "nbformat_minor": 4
}
